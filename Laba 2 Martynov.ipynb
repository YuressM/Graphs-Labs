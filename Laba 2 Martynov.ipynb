{
 "cells": [
  {
   "cell_type": "code",
   "execution_count": 32,
   "id": "eb54251b",
   "metadata": {},
   "outputs": [],
   "source": [
    "import numpy as np\n",
    "import pandas as pd\n",
    "import random\n",
    "import networkx as nx\n",
    "import matplotlib.pyplot as plt\n",
    "import graphblas as gb\n",
    "from graphblas import Matrix, Vector, Scalar\n",
    "from graphblas import dtypes\n",
    "from graphblas import unary, binary, monoid, semiring\n",
    "from graphblas.io import mmread\n",
    "from colorama import Style"
   ]
  },
  {
   "cell_type": "markdown",
   "id": "9f871e11",
   "metadata": {},
   "source": [
    "# 1. MSBFS-Levels"
   ]
  },
  {
   "cell_type": "code",
   "execution_count": 2,
   "id": "1e1b28ca",
   "metadata": {},
   "outputs": [],
   "source": [
    "def MSBFS_Levels(A, start_vertex):\n",
    "    \n",
    "    # Проверка на ориентированность графа\n",
    "    n = A.nrows # Общее количество вершин\n",
    "    if A.isequal(A.T) and A.nvals>0:\n",
    "        raise Exception(\"На вход подается неориентированный граф, а нужен ориентированный! Би карефул!!!\")\n",
    "    \n",
    "    # Задание начальных параметров для обхода\n",
    "    m = start_vertex.size # Находим количество строк массива\n",
    "    result = Matrix(dtypes.INT32, m, n) # Результирующая матрица\n",
    "    f = Matrix(bool, m, n) # Фронт\n",
    "    succ = Vector(bool, m)\n",
    "    \n",
    "    for i in range(m):\n",
    "        f[i,start_vertex[i]] << True # Наполнение изначальной матрицы строками\n",
    "    level=0\n",
    "    \n",
    "    # Цикл обхода графа в ширину\n",
    "    while True:\n",
    "        result(mask=f.V) << level # Заполнение уровеней\n",
    "        # Рассчитывание next фронт (матрица смежн * матрица фронта + маска)\n",
    "        f(~result.S, replace=True) << f.mxm(A, semiring.lor_land)\n",
    "        for i in range(m):\n",
    "             # Заполнение вектора наличия доступных вершин (для каждой из стартовых)\n",
    "            succ[i] << f[i,:].reduce(monoid.lor, allow_empty=False)\n",
    "        # Условия останова (если ни из одной строк(стартовых вершин) на очередной итерации нет доступных вершин)\n",
    "        true_flag = True\n",
    "        for i in range(m):\n",
    "            if succ[i]:\n",
    "            # Проверка до первого true\n",
    "                true_flag = False\n",
    "                break\n",
    "        if true_flag:\n",
    "            break\n",
    "        level += 1 # Счетчик уровней\n",
    "        \n",
    "    # Оформление ответа\n",
    "    # fill недошедших вершины дефолтными значениями\n",
    "    # На выходе функции должен быть словарь: ключ - номер вершины, значение - массив номеров уровней\n",
    "    output = {}\n",
    "    for i in range(m):\n",
    "        val=[]\n",
    "        for j in range(n):\n",
    "            if result[i,j].value is None:\n",
    "                val.append(-1) # до вершины не добраться -> дефолтное значение \"-1\"\n",
    "            else:\n",
    "                val.append(result[i,j].value)\n",
    "        output[start_vertex[i]]=np.array(val)\n",
    "    return output"
   ]
  },
  {
   "cell_type": "markdown",
   "id": "71e62ac7",
   "metadata": {},
   "source": [
    "# 2. MSBFS-Parents"
   ]
  },
  {
   "cell_type": "code",
   "execution_count": 3,
   "id": "3f0033c7",
   "metadata": {},
   "outputs": [],
   "source": [
    "def MSBFS_Parents(A, start_vertex):\n",
    "    \n",
    "    # Проверка на ориентированность графа\n",
    "    N = A.nrows # Общее количество вершин\n",
    "    if A.isequal(A.T) and A.nvals>0:\n",
    "        raise Exception(\"На вход подается неориентированный граф, а нужен ориентированный! Би карефул!!!\")\n",
    "    M = start_vertex.size\n",
    "    \n",
    "    # Задание стартовых значений\n",
    "    # Генерация матрицы, где идентификатор вершины = значению\n",
    "    index_ramp = Matrix(dtypes.UINT64, M, N)\n",
    "    \n",
    "    for i in range(M):\n",
    "        for j in range(N):\n",
    "            index_ramp[i,j] << j\n",
    "            \n",
    "    parents = Matrix(dtypes.UINT64, M, N)\n",
    "    \n",
    "    wavefront = Matrix(dtypes.UINT64, M, N)\n",
    "    \n",
    "    for i in range(M):\n",
    "        # Заполняем изначальную матрицу строками (по номерам соответствующей вершины)\n",
    "        parents[i,start_vertex[i]] << start_vertex[i]\n",
    "        wavefront[i, start_vertex[i]] << 1\n",
    "    \n",
    "    # Цикл обхода графа\n",
    "    while wavefront.nvals > 0:\n",
    "        # Преобразуем все сохраненные значения в wavefront в их индекс\n",
    "        wavefront << index_ramp.ewise_mult(wavefront, binary.first)\n",
    "        \n",
    "        # Маскирование родительского списка\n",
    "        wavefront(~parents.S, replace=True) << wavefront.mxm(A, semiring.min_first)\n",
    "        \n",
    "        # Объединение новых родителей в текущий волновой фронт с существующими родителями\n",
    "        parents(binary.plus) << wavefront\n",
    "    \n",
    "    # Оформление ответа\n",
    "    # fill недошедших вершины дефолтными значениями\n",
    "    # На выходе функции должен быть словарь: ключ - номер вершины, значение - массив родительских вершин\n",
    "    output = {}\n",
    "    for i in range(M):\n",
    "        val=[]\n",
    "        for j in range(N):\n",
    "            if parents[i,j].value is None:\n",
    "                val.append(-2) # Нет роодителя -> дефолтное значение \"-2\"\n",
    "            elif j==start_vertex[i]:\n",
    "                val.append(-1) # Родитель = стартовая вершина -> значение \"-1\"\n",
    "            else:\n",
    "                val.append(parents[i,j].value)\n",
    "        output[start_vertex[i]]=np.array(val)\n",
    "    return output"
   ]
  },
  {
   "cell_type": "markdown",
   "id": "9c18d64f",
   "metadata": {},
   "source": [
    "# 3. Тесты для проверки корректности полученных реализаций \n",
    "## (MSBFS-Levels) и (MSBFS-Parents)\n",
    "\n",
    "Для проверки на вход будут поданы 3 графа: <br>\n",
    "1) неориентированный граф (проверка Exception);\n",
    "2) граф со связанными  вершинами;\n",
    "3) граф, у которого вершины сгруппированы в \"островки\"."
   ]
  },
  {
   "cell_type": "markdown",
   "id": "3e69a439",
   "metadata": {},
   "source": [
    "### Проверка на Exception"
   ]
  },
  {
   "cell_type": "code",
   "execution_count": 6,
   "id": "c65623eb",
   "metadata": {},
   "outputs": [
    {
     "data": {
      "image/png": "[encoded data removed]",
      "text/plain": [
       "<Figure size 640x480 with 1 Axes>"
      ]
     },
     "metadata": {},
     "output_type": "display_data"
    },
    {
     "ename": "Exception",
     "evalue": "На вход подается неориентированный граф, а нужен ориентированный! Би карефул!!!",
     "output_type": "error",
     "traceback": [
      "\u001b[1;31m---------------------------------------------------------------------------\u001b[0m",
      "\u001b[1;31mException\u001b[0m                                 Traceback (most recent call last)",
      "Cell \u001b[1;32mIn[6], line 12\u001b[0m\n\u001b[0;32m      8\u001b[0m M1 \u001b[38;5;241m=\u001b[39m gb\u001b[38;5;241m.\u001b[39mMatrix\u001b[38;5;241m.\u001b[39mfrom_dense(matrix1, missing_value\u001b[38;5;241m=\u001b[39m\u001b[38;5;241m0\u001b[39m)\n\u001b[0;32m     10\u001b[0m gb\u001b[38;5;241m.\u001b[39mviz\u001b[38;5;241m.\u001b[39mdraw(M1)\n\u001b[1;32m---> 12\u001b[0m \u001b[38;5;28mprint\u001b[39m(MSBFS_Levels(M1, np\u001b[38;5;241m.\u001b[39marray([\u001b[38;5;241m0\u001b[39m, \u001b[38;5;241m1\u001b[39m, \u001b[38;5;241m2\u001b[39m, \u001b[38;5;241m3\u001b[39m])))\n",
      "Cell \u001b[1;32mIn[2], line 6\u001b[0m, in \u001b[0;36mMSBFS_Levels\u001b[1;34m(A, start_vertex)\u001b[0m\n\u001b[0;32m      4\u001b[0m n \u001b[38;5;241m=\u001b[39m A\u001b[38;5;241m.\u001b[39mnrows \u001b[38;5;66;03m# Общее количество вершин\u001b[39;00m\n\u001b[0;32m      5\u001b[0m \u001b[38;5;28;01mif\u001b[39;00m A\u001b[38;5;241m.\u001b[39misequal(A\u001b[38;5;241m.\u001b[39mT) \u001b[38;5;129;01mand\u001b[39;00m A\u001b[38;5;241m.\u001b[39mnvals\u001b[38;5;241m>\u001b[39m\u001b[38;5;241m0\u001b[39m:\n\u001b[1;32m----> 6\u001b[0m     \u001b[38;5;28;01mraise\u001b[39;00m \u001b[38;5;167;01mException\u001b[39;00m(\u001b[38;5;124m\"\u001b[39m\u001b[38;5;124mНа вход подается неориентированный граф, а нужен ориентированный! Би карефул!!!\u001b[39m\u001b[38;5;124m\"\u001b[39m)\n\u001b[0;32m      8\u001b[0m \u001b[38;5;66;03m# Задание начальных параметров для обхода\u001b[39;00m\n\u001b[0;32m      9\u001b[0m m \u001b[38;5;241m=\u001b[39m start_vertex\u001b[38;5;241m.\u001b[39msize \u001b[38;5;66;03m# Находим количество строк массива\u001b[39;00m\n",
      "\u001b[1;31mException\u001b[0m: На вход подается неориентированный граф, а нужен ориентированный! Би карефул!!!"
     ]
    }
   ],
   "source": [
    "# Создадим простой неориентированный граф с 4 вершинами и 2 треугольниками\n",
    "matrix1 = np.array([\n",
    "    [0, 1, 1, 0],\n",
    "    [1, 0, 1, 1],\n",
    "    [1, 1, 0, 1],\n",
    "    [0, 1, 1, 0]\n",
    "])\n",
    "M1 = gb.Matrix.from_dense(matrix1, missing_value=0)\n",
    "\n",
    "gb.viz.draw(M1)\n",
    "\n",
    "print(MSBFS_Levels(M1, np.array([0, 1, 2, 3])))"
   ]
  },
  {
   "cell_type": "code",
   "execution_count": 7,
   "id": "33ba5eee",
   "metadata": {},
   "outputs": [
    {
     "ename": "Exception",
     "evalue": "На вход подается неориентированный граф, а нужен ориентированный! Би карефул!!!",
     "output_type": "error",
     "traceback": [
      "\u001b[1;31m---------------------------------------------------------------------------\u001b[0m",
      "\u001b[1;31mException\u001b[0m                                 Traceback (most recent call last)",
      "Cell \u001b[1;32mIn[7], line 1\u001b[0m\n\u001b[1;32m----> 1\u001b[0m \u001b[38;5;28mprint\u001b[39m(MSBFS_Parents(M1, np\u001b[38;5;241m.\u001b[39marray([\u001b[38;5;241m0\u001b[39m, \u001b[38;5;241m1\u001b[39m, \u001b[38;5;241m2\u001b[39m, \u001b[38;5;241m3\u001b[39m])))\n",
      "Cell \u001b[1;32mIn[3], line 6\u001b[0m, in \u001b[0;36mMSBFS_Parents\u001b[1;34m(A, start_vertex)\u001b[0m\n\u001b[0;32m      4\u001b[0m N \u001b[38;5;241m=\u001b[39m A\u001b[38;5;241m.\u001b[39mnrows \u001b[38;5;66;03m# Общее количество вершин\u001b[39;00m\n\u001b[0;32m      5\u001b[0m \u001b[38;5;28;01mif\u001b[39;00m A\u001b[38;5;241m.\u001b[39misequal(A\u001b[38;5;241m.\u001b[39mT) \u001b[38;5;129;01mand\u001b[39;00m A\u001b[38;5;241m.\u001b[39mnvals\u001b[38;5;241m>\u001b[39m\u001b[38;5;241m0\u001b[39m:\n\u001b[1;32m----> 6\u001b[0m     \u001b[38;5;28;01mraise\u001b[39;00m \u001b[38;5;167;01mException\u001b[39;00m(\u001b[38;5;124m\"\u001b[39m\u001b[38;5;124mНа вход подается неориентированный граф, а нужен ориентированный! Би карефул!!!\u001b[39m\u001b[38;5;124m\"\u001b[39m)\n\u001b[0;32m      7\u001b[0m M \u001b[38;5;241m=\u001b[39m start_vertex\u001b[38;5;241m.\u001b[39msize\n\u001b[0;32m      9\u001b[0m \u001b[38;5;66;03m# Задание стартовых значений\u001b[39;00m\n\u001b[0;32m     10\u001b[0m \u001b[38;5;66;03m# Генерация матрицы, где идентификатор вершины = значению\u001b[39;00m\n",
      "\u001b[1;31mException\u001b[0m: На вход подается неориентированный граф, а нужен ориентированный! Би карефул!!!"
     ]
    }
   ],
   "source": [
    "print(MSBFS_Parents(M1, np.array([0, 1, 2, 3])))"
   ]
  },
  {
   "cell_type": "markdown",
   "id": "d143e99d",
   "metadata": {},
   "source": [
    "*Как видим, проверка на ориентированность сработала и вышла ошибка)*"
   ]
  },
  {
   "cell_type": "markdown",
   "id": "da403faf",
   "metadata": {},
   "source": [
    "### Проверка с графом со связанными вершинами"
   ]
  },
  {
   "cell_type": "code",
   "execution_count": 20,
   "id": "11bcba21",
   "metadata": {},
   "outputs": [
    {
     "data": {
      "image/png": "[encoded data removed]",
      "text/plain": [
       "<Figure size 640x480 with 1 Axes>"
      ]
     },
     "metadata": {},
     "output_type": "display_data"
    }
   ],
   "source": [
    "# Создадим простой ориентированный граф с 4 вершинами в форме квадрата\n",
    "matrix2 = np.array([\n",
    "    [0, 1, 0, 1],\n",
    "    [0, 0, 1, 0],\n",
    "    [0, 1, 0, 1],\n",
    "    [0, 0, 0, 0]\n",
    "])\n",
    "M2 = gb.Matrix.from_dense(matrix2, missing_value=0)\n",
    "\n",
    "gb.viz.draw(M2)"
   ]
  },
  {
   "cell_type": "markdown",
   "id": "a813d7ee",
   "metadata": {},
   "source": [
    "#### MSBFS-Levels\n",
    "*начало в вершинах 0, 1, 3* <br>\n",
    "старт из 0: вершины 1 и 3 - 1го уровня, 2 - 2го уровня \\\n",
    "старт из 1: вершина 2 - 1го уровня, 3 - 2ого уровня, 0 - недостижима \\\n",
    "старт из 3: вершины 0, 1, 2 - недостижимы "
   ]
  },
  {
   "cell_type": "code",
   "execution_count": 21,
   "id": "19e5bfac",
   "metadata": {},
   "outputs": [],
   "source": [
    "assert (MSBFS_Levels(M2, np.array([0, 1, 3]))[0]==np.array([0, 1, 2, 1])).all()\n",
    "assert (MSBFS_Levels(M2, np.array([0, 1, 3]))[1]==np.array([-1, 0, 1, 2])).all()\n",
    "assert (MSBFS_Levels(M2, np.array([0, 1, 3]))[3]==np.array([-1, -1, -1, 0])).all()"
   ]
  },
  {
   "cell_type": "markdown",
   "id": "3b3a9bf8",
   "metadata": {},
   "source": [
    "#### MSBFS-Parents\n",
    "*начало в вершинах 0, 1, 3* <br>\n",
    "старт из 0: вершина 1 достижима из 0; 2 - из 1; 3 из 0 и 2 (ближайшая 0) \\\n",
    "старт из 1: вершина 0 недостижима; вершина 2 достижима из 1; вершина 3 достижима из 0 и 2 (ближайшая 2) \\\n",
    "старт из 3: все вершины недостижимы"
   ]
  },
  {
   "cell_type": "code",
   "execution_count": 22,
   "id": "b98a6d24",
   "metadata": {},
   "outputs": [],
   "source": [
    "assert (MSBFS_Parents(M2, np.array([0, 1, 3]))[0]==np.array([-1, 0, 1, 0])).all()\n",
    "assert (MSBFS_Parents(M2, np.array([0, 1, 3]))[1]==np.array([-2, -1, 1, 2])).all()\n",
    "assert (MSBFS_Parents(M2, np.array([0, 1, 3]))[3]==np.array([-2, -2, -2, -1])).all()"
   ]
  },
  {
   "cell_type": "markdown",
   "id": "98e0ec6a",
   "metadata": {},
   "source": [
    "### Проверка с графом , у которого вершины сгруппированы в \"островки\"."
   ]
  },
  {
   "cell_type": "code",
   "execution_count": 26,
   "id": "d8a0f884",
   "metadata": {},
   "outputs": [
    {
     "data": {
      "image/png": "[encoded data removed]",
      "text/plain": [
       "<Figure size 640x480 with 1 Axes>"
      ]
     },
     "metadata": {},
     "output_type": "display_data"
    }
   ],
   "source": [
    "# Создадим граф с 4 вершинами из двух островков\n",
    "matrix3 = np.array([\n",
    "    [0, 1, 0, 0],\n",
    "    [0, 0, 0, 0],\n",
    "    [0, 0, 0, 1],\n",
    "    [0, 0, 1, 0]\n",
    "])\n",
    "M3 = gb.Matrix.from_dense(matrix3, missing_value=0)\n",
    "\n",
    "gb.viz.draw(M3)"
   ]
  },
  {
   "cell_type": "markdown",
   "id": "783d7408",
   "metadata": {},
   "source": [
    "#### MSBFS-Levels\n",
    "*начало в вершинах 1, 2, 3* <br>\n",
    "старт из 1: вершина 0, 2 и 3 - недостижимы\\\n",
    "старт из 2: вершины 0 и 1 - недостижимы, 3 - 1го уровня\\\n",
    "старт из 3: вершины 0 и 1 - недостижимы, 2 - 1го уровня"
   ]
  },
  {
   "cell_type": "code",
   "execution_count": 24,
   "id": "5f6fb117",
   "metadata": {},
   "outputs": [],
   "source": [
    "assert (MSBFS_Levels(M3, np.array([3, 2, 1]))[3]==np.array([-1, -1, 1, 0])).all()\n",
    "assert (MSBFS_Levels(M3, np.array([3, 2, 1]))[2]==np.array([-1, -1, 0, 1])).all()\n",
    "assert (MSBFS_Levels(M3, np.array([3, 2, 1]))[1]==np.array([-1, 0, -1, -1])).all()"
   ]
  },
  {
   "cell_type": "markdown",
   "id": "0f93df58",
   "metadata": {},
   "source": [
    "#### MSBFS-Parents\n",
    "*начало в вершинах 1, 2, 3* <br>\n",
    "старт из 1: вершина 0, 2 и 3 - недостижимы\\\n",
    "старт из 2: вершина 0 и 1 недостижима, вершина 3 достижима из 2\\\n",
    "старт из 3: вершина 0 и 1 недостижима, вершина 2 достижима из 3"
   ]
  },
  {
   "cell_type": "code",
   "execution_count": 25,
   "id": "2bb3a878",
   "metadata": {},
   "outputs": [],
   "source": [
    "assert (MSBFS_Parents(M3, np.array([3, 2, 1]))[3]==np.array([-2, -2, 3, -1])).all()\n",
    "assert (MSBFS_Parents(M3, np.array([3, 2, 1]))[2]==np.array([-2, -2, -1, 2])).all()\n",
    "assert (MSBFS_Parents(M3, np.array([3, 2, 1]))[1]==np.array([-2, -1, -2, -2])).all()"
   ]
  },
  {
   "cell_type": "markdown",
   "id": "5d47af6d",
   "metadata": {},
   "source": [
    "# 4. Тестирование на графах с  *SuiteSparse Matrix Collection*"
   ]
  },
  {
   "cell_type": "code",
   "execution_count": 40,
   "id": "84bc9939",
   "metadata": {},
   "outputs": [],
   "source": [
    "# Функции для тестирования\n",
    "\n",
    "def gen_vertices(num_vertices, vertex_frac):\n",
    "    #генерация стартовых вершин в зависимости от числа вершин (num_vertices) и \n",
    "    #доли (в %) стартовых вершин от общего числа (vertex_frac)\n",
    "    start_vertices = random.sample(range(num_vertices), int(vertex_frac / 100 * num_vertices))\n",
    "    return np.array(start_vertices)\n",
    "\n",
    "\n",
    "# тестирование функции \"MSBFS_Levels\"\n",
    "def test_Levels(A, start_vertices):\n",
    "    print('MSBFS_Levels:')\n",
    "    %timeit MSBFS_Levels(A, start_vertices)\n",
    "    print()\n",
    "\n",
    "    \n",
    "# тестирование функции \"MSBFS_Levels\"\n",
    "def test_Parents(A, start_vertices):\n",
    "    print('MSBFS_Parents:')\n",
    "    %timeit MSBFS_Parents(A, start_vertices)\n",
    "    print()"
   ]
  },
  {
   "cell_type": "code",
   "execution_count": 43,
   "id": "60f8b349",
   "metadata": {},
   "outputs": [],
   "source": [
    "graph_names = ['CSphd', 'GD00_a', 'EPA'] # названия графов\n",
    "vertex_fracs=[5, 40, 75, 95] # доли стартовых вершин от общего числа"
   ]
  },
  {
   "cell_type": "markdown",
   "id": "e837915c",
   "metadata": {},
   "source": [
    "#### Тестирование функции MSBFS-Levels"
   ]
  },
  {
   "cell_type": "code",
   "execution_count": 44,
   "id": "ad508579",
   "metadata": {},
   "outputs": [
    {
     "name": "stdout",
     "output_type": "stream",
     "text": [
      "\u001b[1mДля CSphd.mtx (Количество вершин: 1882, количество ребер: 1740), степень разреженности: 0.0005\n",
      "\u001b[0mКоличество стартовых вершин: 94\n",
      "MSBFS_Levels:\n",
      "9.73 s ± 710 ms per loop (mean ± std. dev. of 7 runs, 1 loop each)\n",
      "\n",
      "Количество стартовых вершин: 752\n",
      "MSBFS_Levels:\n",
      "1min 21s ± 5.15 s per loop (mean ± std. dev. of 7 runs, 1 loop each)\n",
      "\n",
      "Количество стартовых вершин: 1411\n",
      "MSBFS_Levels:\n",
      "2min 25s ± 3.85 s per loop (mean ± std. dev. of 7 runs, 1 loop each)\n",
      "\n",
      "Количество стартовых вершин: 1787\n",
      "MSBFS_Levels:\n",
      "3min 1s ± 1.17 s per loop (mean ± std. dev. of 7 runs, 1 loop each)\n",
      "\n",
      "\n",
      "\u001b[1mДля GD00_a.mtx (Количество вершин: 352, количество ребер: 458), степень разреженности: 0.0037\n",
      "\u001b[0mКоличество стартовых вершин: 17\n",
      "MSBFS_Levels:\n",
      "350 ms ± 71.7 ms per loop (mean ± std. dev. of 7 runs, 1 loop each)\n",
      "\n",
      "Количество стартовых вершин: 140\n",
      "MSBFS_Levels:\n",
      "2.76 s ± 259 ms per loop (mean ± std. dev. of 7 runs, 1 loop each)\n",
      "\n",
      "Количество стартовых вершин: 264\n",
      "MSBFS_Levels:\n",
      "5.39 s ± 43.7 ms per loop (mean ± std. dev. of 7 runs, 1 loop each)\n",
      "\n",
      "Количество стартовых вершин: 334\n",
      "MSBFS_Levels:\n",
      "6.61 s ± 137 ms per loop (mean ± std. dev. of 7 runs, 1 loop each)\n",
      "\n",
      "\n",
      "\u001b[1mДля EPA.mtx (Количество вершин: 4772, количество ребер: 8965), степень разреженности: 0.0004\n",
      "\u001b[0mКоличество стартовых вершин: 238\n",
      "MSBFS_Levels:\n",
      "1min ± 999 ms per loop (mean ± std. dev. of 7 runs, 1 loop each)\n",
      "\n",
      "Количество стартовых вершин: 1908\n",
      "MSBFS_Levels:\n",
      "8min 21s ± 18.4 s per loop (mean ± std. dev. of 7 runs, 1 loop each)\n",
      "\n",
      "Количество стартовых вершин: 3579\n",
      "MSBFS_Levels:\n",
      "15min 2s ± 31.9 s per loop (mean ± std. dev. of 7 runs, 1 loop each)\n",
      "\n",
      "Количество стартовых вершин: 4533\n",
      "MSBFS_Levels:\n",
      "18min 51s ± 2.56 s per loop (mean ± std. dev. of 7 runs, 1 loop each)\n",
      "\n",
      "\n"
     ]
    }
   ],
   "source": [
    "# Зависимость времени работы от размера графа (и степени разреженности)\n",
    "for graph_name in graph_names:\n",
    "    graph = mmread(f'matrixs/{graph_name}.mtx')\n",
    "    num_vertices = graph.shape[0]\n",
    "    num_edges = len(graph.to_coo()[0])\n",
    "    rerefaction_deg = num_edges / (num_vertices * (num_vertices - 1))\n",
    "    print(Style.BRIGHT + f'Для {graph_name}.mtx (Количество вершин: {num_vertices}, количество ребер: {num_edges}), степень разреженности: {rerefaction_deg:.4f}')\n",
    "    print(Style.RESET_ALL, end='')\n",
    "    \n",
    "    # Зависимость времени работы от числа стартовых вершин\n",
    "    for vertex_frac in vertex_fracs:\n",
    "        print(f'Количество стартовых вершин: {int(vertex_frac / 100 * graph.nrows)}')\n",
    "        test_Levels(graph, gen_vertices(graph.nrows, vertex_frac))\n",
    "    print()"
   ]
  },
  {
   "cell_type": "markdown",
   "id": "204025a9",
   "metadata": {},
   "source": [
    "#### Тестирование функции MSBFS-Parents"
   ]
  },
  {
   "cell_type": "code",
   "execution_count": 46,
   "id": "c4e74a27",
   "metadata": {},
   "outputs": [
    {
     "name": "stdout",
     "output_type": "stream",
     "text": [
      "\u001b[1mДля CSphd.mtx (Количество вершин: 1882, количество ребер: 1740), степень разреженности: 0.0005\n",
      "\u001b[0mКоличество стартовых вершин: 94\n",
      "MSBFS_Parents:\n",
      "14.9 s ± 452 ms per loop (mean ± std. dev. of 7 runs, 1 loop each)\n",
      "\n",
      "Количество стартовых вершин: 752\n",
      "MSBFS_Parents:\n",
      "2min 5s ± 1.54 s per loop (mean ± std. dev. of 7 runs, 1 loop each)\n",
      "\n",
      "Количество стартовых вершин: 1411\n",
      "MSBFS_Parents:\n",
      "3min 59s ± 2.76 s per loop (mean ± std. dev. of 7 runs, 1 loop each)\n",
      "\n",
      "Количество стартовых вершин: 1787\n",
      "MSBFS_Parents:\n",
      "5min 5s ± 4.33 s per loop (mean ± std. dev. of 7 runs, 1 loop each)\n",
      "\n",
      "\n",
      "\u001b[1mДля GD00_a.mtx (Количество вершин: 352, количество ребер: 458), степень разреженности: 0.0037\n",
      "\u001b[0mКоличество стартовых вершин: 17\n",
      "MSBFS_Parents:\n",
      "557 ms ± 140 ms per loop (mean ± std. dev. of 7 runs, 1 loop each)\n",
      "\n",
      "Количество стартовых вершин: 140\n",
      "MSBFS_Parents:\n",
      "4.78 s ± 440 ms per loop (mean ± std. dev. of 7 runs, 1 loop each)\n",
      "\n",
      "Количество стартовых вершин: 264\n",
      "MSBFS_Parents:\n",
      "8.29 s ± 258 ms per loop (mean ± std. dev. of 7 runs, 1 loop each)\n",
      "\n",
      "Количество стартовых вершин: 334\n",
      "MSBFS_Parents:\n",
      "10.8 s ± 350 ms per loop (mean ± std. dev. of 7 runs, 1 loop each)\n",
      "\n",
      "\n",
      "\u001b[1mДля EPA.mtx (Количество вершин: 4772, количество ребер: 8965), степень разреженности: 0.0004\n",
      "\u001b[0mКоличество стартовых вершин: 238\n",
      "MSBFS_Parents:\n",
      "1min 42s ± 867 ms per loop (mean ± std. dev. of 7 runs, 1 loop each)\n",
      "\n",
      "Количество стартовых вершин: 1908\n",
      "MSBFS_Parents:\n",
      "13min 37s ± 4.83 s per loop (mean ± std. dev. of 7 runs, 1 loop each)\n",
      "\n",
      "\n"
     ]
    }
   ],
   "source": [
    "# Зависимость времени работы от размера графа (и степени разреженности)\n",
    "for graph_name in graph_names:\n",
    "    graph = mmread(f'matrixs/{graph_name}.mtx')\n",
    "    num_vertices = graph.shape[0]\n",
    "    num_edges = len(graph.to_coo()[0])\n",
    "    rerefaction_deg = num_edges / (num_vertices * (num_vertices - 1))\n",
    "    print(Style.BRIGHT + f'Для {graph_name}.mtx (Количество вершин: {num_vertices}, количество ребер: {num_edges}), степень разреженности: {rerefaction_deg:.4f}')\n",
    "    print(Style.RESET_ALL, end='')\n",
    "    \n",
    "    # Зависимость времени работы от числа стартовых вершин\n",
    "    for vertex_frac in vertex_fracs:\n",
    "        if graph_name != 'EPA':\n",
    "            print(f'Количество стартовых вершин: {int(vertex_frac / 100 * graph.nrows)}')\n",
    "            test_Parents(graph, gen_vertices(graph.nrows, vertex_frac))\n",
    "        elif vertex_frac < 50:\n",
    "            print(f'Количество стартовых вершин: {int(vertex_frac / 100 * graph.nrows)}')\n",
    "            test_Parents(graph, gen_vertices(graph.nrows, vertex_frac))    \n",
    "    print()"
   ]
  },
  {
   "cell_type": "markdown",
   "id": "48ab7b35",
   "metadata": {},
   "source": [
    "### Тестирование на случайно сгенерированных графах"
   ]
  },
  {
   "cell_type": "code",
   "execution_count": 47,
   "id": "d0790bea",
   "metadata": {},
   "outputs": [],
   "source": [
    "# Функция генерации случайного графа\n",
    "def generate_graph(num_vertices, num_edges):\n",
    "    # создание множества, состоящего из номеров ячеек матрицы (без диагональных элементов)\n",
    "    positions=[]\n",
    "    for ind in range(num_vertices**2):\n",
    "        if ind // num_vertices != ind % num_vertices:\n",
    "            positions.append(ind)\n",
    "\n",
    "    # Отбор num_edges случайных индексов вершин (случайные значения из high_positions) для создания ребер\n",
    "    gen_indices = random.sample(positions, num_edges)\n",
    "    \n",
    "    # Преобразование индексов в координаты (строка, столбец)\n",
    "    row_indices, col_indices = np.unravel_index(gen_indices, (num_vertices, num_vertices))\n",
    "    \n",
    "    return gb.Matrix.from_coo(row_indices, col_indices, [1]*len(row_indices), nrows=num_vertices, ncols=num_vertices)"
   ]
  },
  {
   "cell_type": "markdown",
   "id": "90398d45",
   "metadata": {},
   "source": [
    "####  Зависимость от числа вершин (при фикс степени разреженности и фикс числе стартовых вершин)"
   ]
  },
  {
   "cell_type": "code",
   "execution_count": 48,
   "id": "d486f749",
   "metadata": {},
   "outputs": [
    {
     "name": "stdout",
     "output_type": "stream",
     "text": [
      "\u001b[1mКоличество вершин: 100, степень разреженности: 0.50, доля стартовых вершин: 50%\n",
      "\u001b[0mMSBFS_Levels:\n",
      "671 ms ± 126 ms per loop (mean ± std. dev. of 7 runs, 1 loop each)\n",
      "\n",
      "MSBFS_Parents:\n",
      "785 ms ± 142 ms per loop (mean ± std. dev. of 7 runs, 1 loop each)\n",
      "\n",
      "\u001b[1mКоличество вершин: 200, степень разреженности: 0.50, доля стартовых вершин: 50%\n",
      "\u001b[0mMSBFS_Levels:\n",
      "2.49 s ± 329 ms per loop (mean ± std. dev. of 7 runs, 1 loop each)\n",
      "\n",
      "MSBFS_Parents:\n",
      "3.08 s ± 379 ms per loop (mean ± std. dev. of 7 runs, 1 loop each)\n",
      "\n",
      "\u001b[1mКоличество вершин: 400, степень разреженности: 0.50, доля стартовых вершин: 50%\n",
      "\u001b[0mMSBFS_Levels:\n",
      "9.78 s ± 600 ms per loop (mean ± std. dev. of 7 runs, 1 loop each)\n",
      "\n",
      "MSBFS_Parents:\n",
      "12.7 s ± 722 ms per loop (mean ± std. dev. of 7 runs, 1 loop each)\n",
      "\n",
      "\u001b[1mКоличество вершин: 800, степень разреженности: 0.50, доля стартовых вершин: 50%\n",
      "\u001b[0mMSBFS_Levels:\n",
      "38.1 s ± 965 ms per loop (mean ± std. dev. of 7 runs, 1 loop each)\n",
      "\n",
      "MSBFS_Parents:\n",
      "50.7 s ± 513 ms per loop (mean ± std. dev. of 7 runs, 1 loop each)\n",
      "\n"
     ]
    }
   ],
   "source": [
    "for i in [100, 200, 400, 800]:\n",
    "    fix_raref_deg, num_starts = 0.5, 50 # фиксированные значения степени разреженности и числа стартовых вершин\n",
    "    generated_graph = generate_graph(i, int(fix_raref_deg * i * (i-1)))\n",
    "    num_vertices = generated_graph.shape[0]\n",
    "    num_edges = len(generated_graph.to_coo()[0])\n",
    "    rerefaction_deg = num_edges / (num_vertices * (num_vertices - 1))\n",
    "    print(Style.BRIGHT + f'Количество вершин: {num_vertices}, степень разреженности: {rerefaction_deg:.2f}, доля стартовых вершин: {num_starts}%')\n",
    "    print(Style.RESET_ALL, end='')\n",
    "    test_Levels(generated_graph, gen_vertices(i, num_starts))\n",
    "    test_Parents(generated_graph, gen_vertices(i, num_starts))"
   ]
  },
  {
   "cell_type": "markdown",
   "id": "ed8598a2",
   "metadata": {},
   "source": [
    "#### Зависимость от степени разреженности (при фикс числе вершин и фикс числе стартовых вершин)"
   ]
  },
  {
   "cell_type": "code",
   "execution_count": 49,
   "id": "cdd1ee28",
   "metadata": {},
   "outputs": [
    {
     "name": "stdout",
     "output_type": "stream",
     "text": [
      "\u001b[1mКоличество вершин: 500, степень разреженности: 0.20, доля стартовых вершин: 50%\n",
      "\u001b[0mMSBFS_Levels:\n",
      "14.8 s ± 531 ms per loop (mean ± std. dev. of 7 runs, 1 loop each)\n",
      "\n",
      "MSBFS_Parents:\n",
      "20.5 s ± 2.18 s per loop (mean ± std. dev. of 7 runs, 1 loop each)\n",
      "\n",
      "\u001b[1mКоличество вершин: 500, степень разреженности: 0.40, доля стартовых вершин: 50%\n",
      "\u001b[0mMSBFS_Levels:\n",
      "15.7 s ± 1.8 s per loop (mean ± std. dev. of 7 runs, 1 loop each)\n",
      "\n",
      "MSBFS_Parents:\n",
      "19.9 s ± 642 ms per loop (mean ± std. dev. of 7 runs, 1 loop each)\n",
      "\n",
      "\u001b[1mКоличество вершин: 500, степень разреженности: 0.60, доля стартовых вершин: 50%\n",
      "\u001b[0mMSBFS_Levels:\n",
      "15 s ± 374 ms per loop (mean ± std. dev. of 7 runs, 1 loop each)\n",
      "\n",
      "MSBFS_Parents:\n",
      "19.5 s ± 581 ms per loop (mean ± std. dev. of 7 runs, 1 loop each)\n",
      "\n",
      "\u001b[1mКоличество вершин: 500, степень разреженности: 0.80, доля стартовых вершин: 50%\n",
      "\u001b[0mMSBFS_Levels:\n",
      "15.7 s ± 895 ms per loop (mean ± std. dev. of 7 runs, 1 loop each)\n",
      "\n",
      "MSBFS_Parents:\n",
      "19.8 s ± 322 ms per loop (mean ± std. dev. of 7 runs, 1 loop each)\n",
      "\n"
     ]
    }
   ],
   "source": [
    "for i in [0.2, 0.4, 0.6, 0.8]:\n",
    "    num_vert, num_starts = 500, 50 # фиксированные число вершин и число стартовых вершин\n",
    "    generated_graph = generate_graph(num_vert, int(i * num_vert * (num_vert-1)))\n",
    "    num_vertices = generated_graph.shape[0]\n",
    "    num_edges = len(generated_graph.to_coo()[0])\n",
    "    rerefaction_deg = num_edges / (num_vertices * (num_vertices - 1))\n",
    "    print(Style.BRIGHT + f'Количество вершин: {num_vertices}, степень разреженности: {rerefaction_deg:.2f}, доля стартовых вершин: {num_starts}%')\n",
    "    print(Style.RESET_ALL, end='')\n",
    "    test_Levels(generated_graph, gen_vertices(num_vert, num_starts))\n",
    "    test_Parents(generated_graph, gen_vertices(num_vert, num_starts))"
   ]
  },
  {
   "cell_type": "markdown",
   "id": "73f63fbe",
   "metadata": {},
   "source": [
    "#### Зависимость от числа стартовых вершин (при фикс числе вершин и фикс степени разреженности)"
   ]
  },
  {
   "cell_type": "code",
   "execution_count": 51,
   "id": "0e983944",
   "metadata": {},
   "outputs": [
    {
     "name": "stdout",
     "output_type": "stream",
     "text": [
      "\u001b[1mКоличество вершин: 500, степень разреженности: 0.50, доля стартовых вершин: 20%\n",
      "\u001b[0mMSBFS_Levels:\n",
      "5.76 s ± 291 ms per loop (mean ± std. dev. of 7 runs, 1 loop each)\n",
      "\n",
      "MSBFS_Parents:\n",
      "7.84 s ± 383 ms per loop (mean ± std. dev. of 7 runs, 1 loop each)\n",
      "\n",
      "\u001b[1mКоличество вершин: 500, степень разреженности: 0.50, доля стартовых вершин: 40%\n",
      "\u001b[0mMSBFS_Levels:\n",
      "12 s ± 391 ms per loop (mean ± std. dev. of 7 runs, 1 loop each)\n",
      "\n",
      "MSBFS_Parents:\n",
      "15.8 s ± 577 ms per loop (mean ± std. dev. of 7 runs, 1 loop each)\n",
      "\n",
      "\u001b[1mКоличество вершин: 500, степень разреженности: 0.50, доля стартовых вершин: 60%\n",
      "\u001b[0mMSBFS_Levels:\n",
      "17.9 s ± 411 ms per loop (mean ± std. dev. of 7 runs, 1 loop each)\n",
      "\n",
      "MSBFS_Parents:\n",
      "23.9 s ± 795 ms per loop (mean ± std. dev. of 7 runs, 1 loop each)\n",
      "\n",
      "\u001b[1mКоличество вершин: 500, степень разреженности: 0.50, доля стартовых вершин: 80%\n",
      "\u001b[0mMSBFS_Levels:\n",
      "24.1 s ± 454 ms per loop (mean ± std. dev. of 7 runs, 1 loop each)\n",
      "\n",
      "MSBFS_Parents:\n",
      "31.3 s ± 406 ms per loop (mean ± std. dev. of 7 runs, 1 loop each)\n",
      "\n"
     ]
    }
   ],
   "source": [
    "for i in [20, 40, 60, 80]:\n",
    "    num_vert, fix_raref_deg = 500, 0.5 # фиксированные число вершин и значение степени разреженности\n",
    "    generated_graph = generate_graph(num_vert, int(fix_raref_deg * num_vert * (num_vert-1)))\n",
    "    num_vertices = generated_graph.shape[0]\n",
    "    num_edges = len(generated_graph.to_coo()[0])\n",
    "    rerefaction_deg = num_edges / (num_vertices * (num_vertices - 1))\n",
    "    print(Style.BRIGHT + f'Количество вершин: {num_vertices}, степень разреженности: {rerefaction_deg:.2f}, доля стартовых вершин: {i}%')\n",
    "    print(Style.RESET_ALL, end='')\n",
    "    test_Levels(generated_graph, gen_vertices(num_vert, i))\n",
    "    test_Parents(generated_graph, gen_vertices(num_vert, i))"
   ]
  },
  {
   "cell_type": "markdown",
   "id": "ecef97e8",
   "metadata": {},
   "source": [
    "### Выводы:\n",
    "- Когда количество вершин увеличивается (при степени разреженности 0.5 и количестве стартовых вершин 50%), время работы обоих алгоритмов также увеличивается. Это происходит из-за увеличения количества столбцов в матрицах, что усложняет операцию матричного умножения. Алгоритм MSBFS_Levels демонстрирует примерно линейную зависимость времени от количества вершин, в то время как второй алгоритм имеет степенную зависимость.\n",
    "\n",
    "- При росте количества стартовых вершин (при постоянном количестве вершин равном 500 и степени разреженности 50%) также наблюдается увеличение времени работы алгоритмов. В обоих случаях эта зависимость близка к линейной. Это объясняется тем, что увеличение количества стартовых вершин непосредственно влияет на размерность строк фронта, что усложняет операцию матричного умножения.\n",
    "\n",
    "- При увеличении степени разреженности (при уплотнении графа) явной зависимости не наблюдается. Более того, тесты показали, что алгоритмы работают быстрее на графах со средней степенью разреженности. Это можно объяснить тем, что алгоритмы оптимизированы для реальных графов, которые редко бывают почти полными или крайне разреженными.\n",
    "\n",
    "- В сравнении друг с другом функций, MSBFS_Parents начинает работать дольше, чем MSBFS_Levels, по мере увеличения размеров графа."
   ]
  },
  {
   "cell_type": "markdown",
   "id": "b1fca2e5",
   "metadata": {},
   "source": [
    "#  5. Реализации алгоритмов с использованием других полуколец  \n",
    "### (*any.pair* для levels и *any.first* для parents)\n",
    "\n",
    "**Поменяем полукольцо в параметре semiring на any_pair в реализации функции для levels и any_first - parents**"
   ]
  },
  {
   "cell_type": "code",
   "execution_count": 52,
   "id": "fe7a3f9a",
   "metadata": {},
   "outputs": [],
   "source": [
    "def MSBFS_Levels_anypair(A, start_vertex):\n",
    "    \n",
    "    # Проверка на ориентированность графа\n",
    "    n = A.nrows # Общее количество вершин\n",
    "    if A.isequal(A.T) and A.nvals>0:\n",
    "        raise Exception(\"На вход подается неориентированный граф, а нужен ориентированный! Би карефул!!!\")\n",
    "    \n",
    "    # Задание начальных параметров для обхода\n",
    "    m = start_vertex.size # Находим количество строк массива\n",
    "    result = Matrix(dtypes.INT32, m, n) # Результирующая матрица\n",
    "    f = Matrix(bool, m, n) # Фронт\n",
    "    succ = Vector(bool, m)\n",
    "    \n",
    "    for i in range(m):\n",
    "        f[i,start_vertex[i]] << True # Наполнение изначальной матрицы строками\n",
    "    level=0\n",
    "    \n",
    "    # Цикл обхода графа в ширину\n",
    "    while True:\n",
    "        result(mask=f.V) << level # Заполнение уровеней\n",
    "        # Рассчитывание next фронт (матрица смежн * матрица фронта + маска)\n",
    "        '''меняем на any_pair'''\n",
    "        f(~result.S, replace=True) << f.mxm(A, semiring.any_pair)\n",
    "        for i in range(m):\n",
    "             # Заполнение вектора наличия доступных вершин (для каждой из стартовых)\n",
    "            succ[i] << f[i,:].reduce(monoid.lor, allow_empty=False)\n",
    "        # Условия останова (если ни из одной строк(стартовых вершин) на очередной итерации нет доступных вершин)\n",
    "        true_flag = True\n",
    "        for i in range(m):\n",
    "            if succ[i]:\n",
    "            # Проверка до первого true\n",
    "                true_flag = False\n",
    "                break\n",
    "        if true_flag:\n",
    "            break\n",
    "        level += 1 # Счетчик уровней\n",
    "        \n",
    "    # Оформление ответа\n",
    "    # fill недошедших вершины дефолтными значениями\n",
    "    # На выходе функции должен быть словарь: ключ - номер вершины, значение - массив номеров уровней\n",
    "    output = {}\n",
    "    for i in range(m):\n",
    "        val=[]\n",
    "        for j in range(n):\n",
    "            if result[i,j].value is None:\n",
    "                val.append(-1) # до вершины не добраться -> дефолтное значение \"-1\"\n",
    "            else:\n",
    "                val.append(result[i,j].value)\n",
    "        output[start_vertex[i]]=np.array(val)\n",
    "    return output"
   ]
  },
  {
   "cell_type": "code",
   "execution_count": 53,
   "id": "135c870f",
   "metadata": {},
   "outputs": [],
   "source": [
    "def MSBFS_Parents_anyfirst(A, start_vertex):\n",
    "    \n",
    "    # Проверка на ориентированность графа\n",
    "    N = A.nrows # Общее количество вершин\n",
    "    if A.isequal(A.T) and A.nvals>0:\n",
    "        raise Exception(\"На вход подается неориентированный граф, а нужен ориентированный! Би карефул!!!\")\n",
    "    M = start_vertex.size\n",
    "    \n",
    "    # Задание стартовых значений\n",
    "    # Генерация матрицы, где идентификатор вершины = значению\n",
    "    index_ramp = Matrix(dtypes.UINT64, M, N)\n",
    "    \n",
    "    for i in range(M):\n",
    "        for j in range(N):\n",
    "            index_ramp[i,j] << j\n",
    "            \n",
    "    parents = Matrix(dtypes.UINT64, M, N)\n",
    "    \n",
    "    wavefront = Matrix(dtypes.UINT64, M, N)\n",
    "    \n",
    "    for i in range(M):\n",
    "        # Заполняем изначальную матрицу строками (по номерам соответствующей вершины)\n",
    "        parents[i,start_vertex[i]] << start_vertex[i]\n",
    "        wavefront[i, start_vertex[i]] << 1\n",
    "    \n",
    "    # Цикл обхода графа\n",
    "    while wavefront.nvals > 0:\n",
    "        # Преобразуем все сохраненные значения в wavefront в их индекс\n",
    "        wavefront << index_ramp.ewise_mult(wavefront, binary.first)\n",
    "        \n",
    "        # Маскирование родительского списка\n",
    "        '''меняем на any_first'''\n",
    "        wavefront(~parents.S, replace=True) << wavefront.mxm(A, semiring.any_first)\n",
    "        \n",
    "        # Объединение новых родителей в текущий волновой фронт с существующими родителями\n",
    "        parents(binary.plus) << wavefront\n",
    "    \n",
    "    # Оформление ответа\n",
    "    # fill недошедших вершины дефолтными значениями\n",
    "    # На выходе функции должен быть словарь: ключ - номер вершины, значение - массив родительских вершин\n",
    "    output = {}\n",
    "    for i in range(M):\n",
    "        val=[]\n",
    "        for j in range(N):\n",
    "            if parents[i,j].value is None:\n",
    "                val.append(-2) # Нет роодителя -> дефолтное значение \"-2\"\n",
    "            elif j==start_vertex[i]:\n",
    "                val.append(-1) # Родитель = стартовая вершина -> значение \"-1\"\n",
    "            else:\n",
    "                val.append(parents[i,j].value)\n",
    "        output[start_vertex[i]]=np.array(val)\n",
    "    return output"
   ]
  },
  {
   "cell_type": "markdown",
   "id": "b6b222a1",
   "metadata": {},
   "source": [
    "#### Функции для тестирования"
   ]
  },
  {
   "cell_type": "code",
   "execution_count": 54,
   "id": "72c03b0b",
   "metadata": {},
   "outputs": [],
   "source": [
    "# тестирование функции MSBFS_Levels_anypair\n",
    "def test_Levels_anypair(A, start_vertex):\n",
    "    print('MSBFS_Levels_anypair:')\n",
    "    %timeit MSBFS_Levels_anypair(A, start_vertex)\n",
    "    print()\n",
    "\n",
    "    \n",
    "# тестирование функции MSBFS_Levels_anyfirst\n",
    "def test_Parents_anyfirst(A, start_vertex):\n",
    "    print('MSBFS_Parents_anyfirst:')\n",
    "    %timeit MSBFS_Parents_anyfirst(A, start_vertex)\n",
    "    print()"
   ]
  },
  {
   "cell_type": "markdown",
   "id": "7f7b2795",
   "metadata": {},
   "source": [
    "#### Тестирование на графах с *SuiteSparse Matrix Collection*"
   ]
  },
  {
   "cell_type": "markdown",
   "id": "af1af680",
   "metadata": {},
   "source": [
    "##### Тестирование функции MSBFS-Levels_anypair"
   ]
  },
  {
   "cell_type": "code",
   "execution_count": 55,
   "id": "49522cac",
   "metadata": {},
   "outputs": [
    {
     "name": "stdout",
     "output_type": "stream",
     "text": [
      "\u001b[1mДля CSphd.mtx (Количество вершин: 1882, количество ребер: 1740), степень разреженности: 0.0005\n",
      "\u001b[0mКоличество стартовых вершин: 94\n",
      "MSBFS_Levels_anypair:\n",
      "9.41 s ± 415 ms per loop (mean ± std. dev. of 7 runs, 1 loop each)\n",
      "\n",
      "Количество стартовых вершин: 752\n",
      "MSBFS_Levels_anypair:\n",
      "1min 17s ± 1.78 s per loop (mean ± std. dev. of 7 runs, 1 loop each)\n",
      "\n",
      "Количество стартовых вершин: 1411\n",
      "MSBFS_Levels_anypair:\n",
      "2min 26s ± 1.88 s per loop (mean ± std. dev. of 7 runs, 1 loop each)\n",
      "\n",
      "Количество стартовых вершин: 1787\n",
      "MSBFS_Levels_anypair:\n",
      "3min 4s ± 1.12 s per loop (mean ± std. dev. of 7 runs, 1 loop each)\n",
      "\n",
      "\n",
      "\u001b[1mДля GD00_a.mtx (Количество вершин: 352, количество ребер: 458), степень разреженности: 0.0037\n",
      "\u001b[0mКоличество стартовых вершин: 17\n",
      "MSBFS_Levels_anypair:\n",
      "310 ms ± 56.6 ms per loop (mean ± std. dev. of 7 runs, 1 loop each)\n",
      "\n",
      "Количество стартовых вершин: 140\n",
      "MSBFS_Levels_anypair:\n",
      "2.74 s ± 409 ms per loop (mean ± std. dev. of 7 runs, 1 loop each)\n",
      "\n",
      "Количество стартовых вершин: 264\n",
      "MSBFS_Levels_anypair:\n",
      "5.18 s ± 442 ms per loop (mean ± std. dev. of 7 runs, 1 loop each)\n",
      "\n",
      "Количество стартовых вершин: 334\n",
      "MSBFS_Levels_anypair:\n",
      "6.67 s ± 396 ms per loop (mean ± std. dev. of 7 runs, 1 loop each)\n",
      "\n",
      "\n",
      "\u001b[1mДля EPA.mtx (Количество вершин: 4772, количество ребер: 8965), степень разреженности: 0.0004\n",
      "\u001b[0mКоличество стартовых вершин: 238\n",
      "MSBFS_Levels_anypair:\n",
      "1min 1s ± 816 ms per loop (mean ± std. dev. of 7 runs, 1 loop each)\n",
      "\n",
      "Количество стартовых вершин: 1908\n",
      "MSBFS_Levels_anypair:\n",
      "8min 4s ± 2.23 s per loop (mean ± std. dev. of 7 runs, 1 loop each)\n",
      "\n",
      "\n"
     ]
    }
   ],
   "source": [
    "# Зависимость времени работы от размера графа (и степени разреженности)\n",
    "for graph_name in graph_names:\n",
    "    graph = mmread(f'matrixs/{graph_name}.mtx')\n",
    "    num_vertices = graph.shape[0]\n",
    "    num_edges = len(graph.to_coo()[0])\n",
    "    rerefaction_deg = num_edges / (num_vertices * (num_vertices - 1))\n",
    "    print(Style.BRIGHT + f'Для {graph_name}.mtx (Количество вершин: {num_vertices}, количество ребер: {num_edges}), степень разреженности: {rerefaction_deg:.4f}')\n",
    "    print(Style.RESET_ALL, end='')\n",
    "    \n",
    "    # Зависимость времени работы от числа стартовых вершин\n",
    "    for vertex_frac in vertex_fracs:\n",
    "        if graph_name != 'EPA':\n",
    "            print(f'Количество стартовых вершин: {int(vertex_frac / 100 * graph.nrows)}')\n",
    "            test_Levels_anypair(graph, gen_vertices(graph.nrows, vertex_frac))\n",
    "        elif vertex_frac < 50:\n",
    "            print(f'Количество стартовых вершин: {int(vertex_frac / 100 * graph.nrows)}')\n",
    "            test_Levels_anypair(graph, gen_vertices(graph.nrows, vertex_frac)) \n",
    "#         print(f'Количество стартовых вершин: {int(vertex_frac / 100 * graph.nrows)}')\n",
    "#         test_Levels_anypair(graph, gen_vertices(graph.nrows, vertex_frac))\n",
    "    print()"
   ]
  },
  {
   "cell_type": "markdown",
   "id": "a21dbb36",
   "metadata": {},
   "source": [
    "##### Тестирование функции MSBFS-Parents_anyfirst"
   ]
  },
  {
   "cell_type": "code",
   "execution_count": 57,
   "id": "9008ce3b",
   "metadata": {},
   "outputs": [
    {
     "name": "stdout",
     "output_type": "stream",
     "text": [
      "\u001b[1mДля CSphd.mtx (Количество вершин: 1882, количество ребер: 1740), степень разреженности: 0.0005\n",
      "\u001b[0mКоличество стартовых вершин: 94\n",
      "MSBFS_Parents_anyfirst:\n",
      "14.2 s ± 509 ms per loop (mean ± std. dev. of 7 runs, 1 loop each)\n",
      "\n",
      "Количество стартовых вершин: 752\n",
      "MSBFS_Parents_anyfirst:\n",
      "2min 6s ± 3.64 s per loop (mean ± std. dev. of 7 runs, 1 loop each)\n",
      "\n",
      "Количество стартовых вершин: 1411\n",
      "MSBFS_Parents_anyfirst:\n",
      "3min 55s ± 6.42 s per loop (mean ± std. dev. of 7 runs, 1 loop each)\n",
      "\n",
      "Количество стартовых вершин: 1787\n",
      "MSBFS_Parents_anyfirst:\n",
      "4min 55s ± 2.68 s per loop (mean ± std. dev. of 7 runs, 1 loop each)\n",
      "\n",
      "\n",
      "\u001b[1mДля GD00_a.mtx (Количество вершин: 352, количество ребер: 458), степень разреженности: 0.0037\n",
      "\u001b[0mКоличество стартовых вершин: 17\n",
      "MSBFS_Parents_anyfirst:\n",
      "550 ms ± 111 ms per loop (mean ± std. dev. of 7 runs, 1 loop each)\n",
      "\n",
      "Количество стартовых вершин: 140\n",
      "MSBFS_Parents_anyfirst:\n",
      "4.25 s ± 248 ms per loop (mean ± std. dev. of 7 runs, 1 loop each)\n",
      "\n",
      "Количество стартовых вершин: 264\n",
      "MSBFS_Parents_anyfirst:\n",
      "8.18 s ± 444 ms per loop (mean ± std. dev. of 7 runs, 1 loop each)\n",
      "\n",
      "Количество стартовых вершин: 334\n",
      "MSBFS_Parents_anyfirst:\n",
      "10.4 s ± 423 ms per loop (mean ± std. dev. of 7 runs, 1 loop each)\n",
      "\n",
      "\n",
      "\u001b[1mДля EPA.mtx (Количество вершин: 4772, количество ребер: 8965), степень разреженности: 0.0004\n",
      "\u001b[0mКоличество стартовых вершин: 238\n",
      "MSBFS_Parents_anyfirst:\n",
      "1min 39s ± 2.69 s per loop (mean ± std. dev. of 7 runs, 1 loop each)\n",
      "\n",
      "Количество стартовых вершин: 1908\n",
      "MSBFS_Parents_anyfirst:\n",
      "13min 6s ± 5.6 s per loop (mean ± std. dev. of 7 runs, 1 loop each)\n",
      "\n",
      "\n"
     ]
    }
   ],
   "source": [
    "# Зависимость времени работы от размера графа (и степени разреженности)\n",
    "for graph_name in graph_names:\n",
    "    graph = mmread(f'matrixs/{graph_name}.mtx')\n",
    "    num_vertices = graph.shape[0]\n",
    "    num_edges = len(graph.to_coo()[0])\n",
    "    rerefaction_deg = num_edges / (num_vertices * (num_vertices - 1))\n",
    "    print(Style.BRIGHT + f'Для {graph_name}.mtx (Количество вершин: {num_vertices}, количество ребер: {num_edges}), степень разреженности: {rerefaction_deg:.4f}')\n",
    "    print(Style.RESET_ALL, end='')\n",
    "    \n",
    "    # Зависимость времени работы от числа стартовых вершин\n",
    "    for vertex_frac in vertex_fracs:\n",
    "        if graph_name != 'EPA':\n",
    "            print(f'Количество стартовых вершин: {int(vertex_frac / 100 * graph.nrows)}')\n",
    "            test_Parents_anyfirst(graph, gen_vertices(graph.nrows, vertex_frac))\n",
    "        elif vertex_frac < 50:\n",
    "            print(f'Количество стартовых вершин: {int(vertex_frac / 100 * graph.nrows)}')\n",
    "            test_Parents_anyfirst(graph, gen_vertices(graph.nrows, vertex_frac))\n",
    "#         print(f'Количество стартовых вершин: {int(vertex_frac / 100 * graph.nrows)}')\n",
    "#         test_Parents_anyfirst(graph, gen_vertices(graph.nrows, vertex_frac))\n",
    "    print()"
   ]
  },
  {
   "cell_type": "markdown",
   "id": "44fea6b7",
   "metadata": {},
   "source": [
    "### Тестирование на случайно сгенерированных графах"
   ]
  },
  {
   "cell_type": "markdown",
   "id": "a0baa8e7",
   "metadata": {},
   "source": [
    "#### Зависимость от числа вершин (при фикс степени разреженности и фикс числе стартовых вершин)"
   ]
  },
  {
   "cell_type": "code",
   "execution_count": 58,
   "id": "4bc80315",
   "metadata": {},
   "outputs": [
    {
     "name": "stdout",
     "output_type": "stream",
     "text": [
      "\u001b[1mКоличество вершин: 100, степень разреженности: 0.50, доля стартовых вершин: 50%\n",
      "\u001b[0mMSBFS_Levels_anypair:\n",
      "603 ms ± 123 ms per loop (mean ± std. dev. of 7 runs, 1 loop each)\n",
      "\n",
      "MSBFS_Parents_anyfirst:\n",
      "777 ms ± 184 ms per loop (mean ± std. dev. of 7 runs, 1 loop each)\n",
      "\n",
      "\u001b[1mКоличество вершин: 200, степень разреженности: 0.50, доля стартовых вершин: 50%\n",
      "\u001b[0mMSBFS_Levels_anypair:\n",
      "2.38 s ± 272 ms per loop (mean ± std. dev. of 7 runs, 1 loop each)\n",
      "\n",
      "MSBFS_Parents_anyfirst:\n",
      "3.2 s ± 410 ms per loop (mean ± std. dev. of 7 runs, 1 loop each)\n",
      "\n",
      "\u001b[1mКоличество вершин: 400, степень разреженности: 0.50, доля стартовых вершин: 50%\n",
      "\u001b[0mMSBFS_Levels_anypair:\n",
      "9.5 s ± 286 ms per loop (mean ± std. dev. of 7 runs, 1 loop each)\n",
      "\n",
      "MSBFS_Parents_anyfirst:\n",
      "11.8 s ± 336 ms per loop (mean ± std. dev. of 7 runs, 1 loop each)\n",
      "\n",
      "\u001b[1mКоличество вершин: 800, степень разреженности: 0.50, доля стартовых вершин: 50%\n",
      "\u001b[0mMSBFS_Levels_anypair:\n",
      "37.3 s ± 603 ms per loop (mean ± std. dev. of 7 runs, 1 loop each)\n",
      "\n",
      "MSBFS_Parents_anyfirst:\n",
      "48.8 s ± 726 ms per loop (mean ± std. dev. of 7 runs, 1 loop each)\n",
      "\n"
     ]
    }
   ],
   "source": [
    "for i in [100, 200, 400, 800]:\n",
    "    fix_raref_deg, num_starts = 0.5, 50 # фиксированные значения степени разреженности и числа стартовых вершин\n",
    "    generated_graph = generate_graph(i, int(fix_raref_deg * i * (i-1)))\n",
    "    num_vertices = generated_graph.shape[0]\n",
    "    num_edges = len(generated_graph.to_coo()[0])\n",
    "    rerefaction_deg = num_edges / (num_vertices * (num_vertices - 1))\n",
    "    print(Style.BRIGHT + f'Количество вершин: {num_vertices}, степень разреженности: {rerefaction_deg:.2f}, доля стартовых вершин: {num_starts}%')\n",
    "    print(Style.RESET_ALL, end='')\n",
    "    test_Levels_anypair(generated_graph, gen_vertices(i, num_starts))\n",
    "    test_Parents_anyfirst(generated_graph, gen_vertices(i, num_starts))"
   ]
  },
  {
   "cell_type": "markdown",
   "id": "907d2f17",
   "metadata": {},
   "source": [
    "#### Зависимость от степени разреженности (при фикс числе вершин и фикс числе стартовых вершин)"
   ]
  },
  {
   "cell_type": "code",
   "execution_count": 59,
   "id": "98b8eaae",
   "metadata": {},
   "outputs": [
    {
     "name": "stdout",
     "output_type": "stream",
     "text": [
      "\u001b[1mКоличество вершин: 500, степень разреженности: 0.20, доля стартовых вершин: 50%\n",
      "\u001b[0mMSBFS_Levels_anypair:\n",
      "14.5 s ± 301 ms per loop (mean ± std. dev. of 7 runs, 1 loop each)\n",
      "\n",
      "MSBFS_Parents_anyfirst:\n",
      "18.8 s ± 556 ms per loop (mean ± std. dev. of 7 runs, 1 loop each)\n",
      "\n",
      "\u001b[1mКоличество вершин: 500, степень разреженности: 0.40, доля стартовых вершин: 50%\n",
      "\u001b[0mMSBFS_Levels_anypair:\n",
      "14.8 s ± 216 ms per loop (mean ± std. dev. of 7 runs, 1 loop each)\n",
      "\n",
      "MSBFS_Parents_anyfirst:\n",
      "19.1 s ± 603 ms per loop (mean ± std. dev. of 7 runs, 1 loop each)\n",
      "\n",
      "\u001b[1mКоличество вершин: 500, степень разреженности: 0.60, доля стартовых вершин: 50%\n",
      "\u001b[0mMSBFS_Levels_anypair:\n",
      "14.4 s ± 458 ms per loop (mean ± std. dev. of 7 runs, 1 loop each)\n",
      "\n",
      "MSBFS_Parents_anyfirst:\n",
      "19.2 s ± 422 ms per loop (mean ± std. dev. of 7 runs, 1 loop each)\n",
      "\n",
      "\u001b[1mКоличество вершин: 500, степень разреженности: 0.80, доля стартовых вершин: 50%\n",
      "\u001b[0mMSBFS_Levels_anypair:\n",
      "14.6 s ± 411 ms per loop (mean ± std. dev. of 7 runs, 1 loop each)\n",
      "\n",
      "MSBFS_Parents_anyfirst:\n",
      "18.5 s ± 309 ms per loop (mean ± std. dev. of 7 runs, 1 loop each)\n",
      "\n"
     ]
    }
   ],
   "source": [
    "for i in [0.2, 0.4, 0.6, 0.8]:\n",
    "    num_vert, num_starts = 500, 50 # фиксированные число вершин и число стартовых вершин\n",
    "    generated_graph = generate_graph(num_vert, int(i * num_vert * (num_vert-1)))\n",
    "    num_vertices = generated_graph.shape[0]\n",
    "    num_edges = len(generated_graph.to_coo()[0])\n",
    "    rerefaction_deg = num_edges / (num_vertices * (num_vertices - 1))\n",
    "    print(Style.BRIGHT + f'Количество вершин: {num_vertices}, степень разреженности: {rerefaction_deg:.2f}, доля стартовых вершин: {num_starts}%')\n",
    "    print(Style.RESET_ALL, end='')\n",
    "    test_Levels_anypair(generated_graph, gen_vertices(num_vert, num_starts))\n",
    "    test_Parents_anyfirst(generated_graph, gen_vertices(num_vert, num_starts))"
   ]
  },
  {
   "cell_type": "markdown",
   "id": "22b14b12",
   "metadata": {},
   "source": [
    "#### Зависимость от числа стартовых вершин (при фикс числе вершин и фикс степени разреженности)"
   ]
  },
  {
   "cell_type": "code",
   "execution_count": 60,
   "id": "6fc57ab6",
   "metadata": {},
   "outputs": [
    {
     "name": "stdout",
     "output_type": "stream",
     "text": [
      "\u001b[1mКоличество вершин: 500, степень разреженности: 0.50, доля стартовых вершин: 20%\n",
      "\u001b[0mMSBFS_Levels_anypair:\n",
      "5.73 s ± 258 ms per loop (mean ± std. dev. of 7 runs, 1 loop each)\n",
      "\n",
      "MSBFS_Parents_anyfirst:\n",
      "7.58 s ± 419 ms per loop (mean ± std. dev. of 7 runs, 1 loop each)\n",
      "\n",
      "\u001b[1mКоличество вершин: 500, степень разреженности: 0.50, доля стартовых вершин: 40%\n",
      "\u001b[0mMSBFS_Levels_anypair:\n",
      "11.4 s ± 673 ms per loop (mean ± std. dev. of 7 runs, 1 loop each)\n",
      "\n",
      "MSBFS_Parents_anyfirst:\n",
      "15.3 s ± 363 ms per loop (mean ± std. dev. of 7 runs, 1 loop each)\n",
      "\n",
      "\u001b[1mКоличество вершин: 500, степень разреженности: 0.50, доля стартовых вершин: 60%\n",
      "\u001b[0mMSBFS_Levels_anypair:\n",
      "17.3 s ± 465 ms per loop (mean ± std. dev. of 7 runs, 1 loop each)\n",
      "\n",
      "MSBFS_Parents_anyfirst:\n",
      "22.8 s ± 813 ms per loop (mean ± std. dev. of 7 runs, 1 loop each)\n",
      "\n",
      "\u001b[1mКоличество вершин: 500, степень разреженности: 0.50, доля стартовых вершин: 80%\n",
      "\u001b[0mMSBFS_Levels_anypair:\n",
      "23.6 s ± 1.08 s per loop (mean ± std. dev. of 7 runs, 1 loop each)\n",
      "\n",
      "MSBFS_Parents_anyfirst:\n",
      "30.7 s ± 192 ms per loop (mean ± std. dev. of 7 runs, 1 loop each)\n",
      "\n"
     ]
    }
   ],
   "source": [
    "for i in [20, 40, 60, 80]:\n",
    "    num_vert, fix_raref_deg = 500, 0.5 # фиксированные число вершин и значение степени разреженности\n",
    "    generated_graph = generate_graph(num_vert, int(fix_raref_deg * num_vert * (num_vert-1)))\n",
    "    num_vertices = generated_graph.shape[0]\n",
    "    num_edges = len(generated_graph.to_coo()[0])\n",
    "    rerefaction_deg = num_edges / (num_vertices * (num_vertices - 1))\n",
    "    print(Style.BRIGHT + f'Количество вершин: {num_vertices}, степень разреженности: {rerefaction_deg:.2f}, доля стартовых вершин: {i}%')\n",
    "    print(Style.RESET_ALL, end='')\n",
    "    test_Levels_anypair(generated_graph, gen_vertices(num_vert, i))\n",
    "    test_Parents_anyfirst(generated_graph, gen_vertices(num_vert, i))"
   ]
  },
  {
   "cell_type": "markdown",
   "id": "95527692",
   "metadata": {},
   "source": [
    "## Выводы\n",
    "\n",
    "- Levels. При крайних значениях (малых графах, очень разреженных или очень плотных, небольшом количестве стартовых вершин) алгоритм в начальном полукольце показывает лучшую скорость. Тем не менее, при увеличении плотности графа, его размеров и количества стартовых вершин (то есть при приближении к реальным практическим задачам) полукольцо any_pair демонстрирует меньшее время выполнения.\n",
    "\n",
    "- Parents. При приближении графов к реальным задачам алгоритм с использованием полукольца any_first дает сравнимое время (при малых значениях изначальное полукольцо работает быстрее). Я считаю, что это связано с выбором первого или же с поиском минимального элемента, соответственно выбирая первого, мы получаем более эффективную стратегию при большом количестве подходящих. Однако, при увеличении количества стартовых вершин изначальное полукольцо показывает значительно лучшую производительность. Скорее всего выбор минимального элемента осуществляется по хитрой схеме, которая не уступает стратегии выбора первого подходящего."
   ]
  },
  {
   "cell_type": "code",
   "execution_count": null,
   "id": "2d657d6c",
   "metadata": {},
   "outputs": [],
   "source": []
  }
 ],
 "metadata": {
  "kernelspec": {
   "display_name": "Python 3 (ipykernel)",
   "language": "python",
   "name": "python3"
  },
  "language_info": {
   "codemirror_mode": {
    "name": "ipython",
    "version": 3
   },
   "file_extension": ".py",
   "mimetype": "text/x-python",
   "name": "python",
   "nbconvert_exporter": "python",
   "pygments_lexer": "ipython3",
   "version": "3.11.5"
  }
 },
 "nbformat": 4,
 "nbformat_minor": 5
}
